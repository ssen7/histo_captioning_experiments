{
 "cells": [
  {
   "cell_type": "code",
   "execution_count": 1,
   "metadata": {},
   "outputs": [
    {
     "data": {
      "text/plain": [
       "('Tesla V100-SXM2-32GB', 'Tesla V100-SXM2-32GB')"
      ]
     },
     "execution_count": 1,
     "metadata": {},
     "output_type": "execute_result"
    }
   ],
   "source": [
    "import random\n",
    "import openslide\n",
    "import h5py\n",
    "import pandas as pd\n",
    "import numpy as np\n",
    "\n",
    "from HIPT.HIPT_4K.hipt_4k import HIPT_4K\n",
    "from HIPT.HIPT_4K.hipt_model_utils import get_vit256, get_vit4k, eval_transforms\n",
    "from HIPT.HIPT_4K.hipt_heatmap_utils import *\n",
    "\n",
    "import torch\n",
    "import os\n",
    "from tqdm.notebook import tqdm\n",
    "torch.cuda.get_device_name(0),torch.cuda.get_device_name(1)"
   ]
  },
  {
   "cell_type": "code",
   "execution_count": 2,
   "metadata": {},
   "outputs": [
    {
     "data": {
      "text/html": [
       "<div>\n",
       "<style scoped>\n",
       "    .dataframe tbody tr th:only-of-type {\n",
       "        vertical-align: middle;\n",
       "    }\n",
       "\n",
       "    .dataframe tbody tr th {\n",
       "        vertical-align: top;\n",
       "    }\n",
       "\n",
       "    .dataframe thead th {\n",
       "        text-align: right;\n",
       "    }\n",
       "</style>\n",
       "<table border=\"1\" class=\"dataframe\">\n",
       "  <thead>\n",
       "    <tr style=\"text-align: right;\">\n",
       "      <th></th>\n",
       "      <th>pid</th>\n",
       "      <th>tissue_type</th>\n",
       "      <th>notes</th>\n",
       "      <th>svs_path</th>\n",
       "      <th>patch_path</th>\n",
       "      <th>reps_path</th>\n",
       "    </tr>\n",
       "  </thead>\n",
       "  <tbody>\n",
       "    <tr>\n",
       "      <th>0</th>\n",
       "      <td>GTEX-1117F-0726</td>\n",
       "      <td>Heart - Atrial Appendage</td>\n",
       "      <td>2 pieces, no abnormalities</td>\n",
       "      <td>/project/GutIntelligenceLab/ss4yd/gtex_data/ac...</td>\n",
       "      <td>/project/GutIntelligenceLab/ss4yd/gtex_data/pa...</td>\n",
       "      <td>/project/GutIntelligenceLab/ss4yd/gtex_data/hi...</td>\n",
       "    </tr>\n",
       "    <tr>\n",
       "      <th>1</th>\n",
       "      <td>GTEX-1117F-1026</td>\n",
       "      <td>Lung</td>\n",
       "      <td>2 pieces, moderate congestion/moderate to mark...</td>\n",
       "      <td>/project/GutIntelligenceLab/ss4yd/gtex_data/ac...</td>\n",
       "      <td>/project/GutIntelligenceLab/ss4yd/gtex_data/pa...</td>\n",
       "      <td>/project/GutIntelligenceLab/ss4yd/gtex_data/hi...</td>\n",
       "    </tr>\n",
       "    <tr>\n",
       "      <th>2</th>\n",
       "      <td>GTEX-1117F-1126</td>\n",
       "      <td>Liver</td>\n",
       "      <td>2 pieces, subtotal massive hepatic necrosis</td>\n",
       "      <td>/project/GutIntelligenceLab/ss4yd/gtex_data/ac...</td>\n",
       "      <td>/project/GutIntelligenceLab/ss4yd/gtex_data/pa...</td>\n",
       "      <td>/project/GutIntelligenceLab/ss4yd/gtex_data/hi...</td>\n",
       "    </tr>\n",
       "    <tr>\n",
       "      <th>3</th>\n",
       "      <td>GTEX-1117F-1226</td>\n",
       "      <td>Spleen</td>\n",
       "      <td>2 pieces, marked congestion/autolysis</td>\n",
       "      <td>/project/GutIntelligenceLab/ss4yd/gtex_data/ac...</td>\n",
       "      <td>/project/GutIntelligenceLab/ss4yd/gtex_data/pa...</td>\n",
       "      <td>/project/GutIntelligenceLab/ss4yd/gtex_data/hi...</td>\n",
       "    </tr>\n",
       "    <tr>\n",
       "      <th>4</th>\n",
       "      <td>GTEX-1117F-1326</td>\n",
       "      <td>Adipose - Visceral (Omentum)</td>\n",
       "      <td>2 pieces, diffuse mesothelial hyperplasia; ~10...</td>\n",
       "      <td>/project/GutIntelligenceLab/ss4yd/gtex_data/ac...</td>\n",
       "      <td>/project/GutIntelligenceLab/ss4yd/gtex_data/pa...</td>\n",
       "      <td>/project/GutIntelligenceLab/ss4yd/gtex_data/hi...</td>\n",
       "    </tr>\n",
       "    <tr>\n",
       "      <th>...</th>\n",
       "      <td>...</td>\n",
       "      <td>...</td>\n",
       "      <td>...</td>\n",
       "      <td>...</td>\n",
       "      <td>...</td>\n",
       "      <td>...</td>\n",
       "    </tr>\n",
       "    <tr>\n",
       "      <th>1402</th>\n",
       "      <td>GTEX-13SLW-0726</td>\n",
       "      <td>Thyroid</td>\n",
       "      <td>2 pieces, colloid cysts up to ~1.5mm, rep deli...</td>\n",
       "      <td>/project/GutIntelligenceLab/ss4yd/gtex_data/ac...</td>\n",
       "      <td>/project/GutIntelligenceLab/ss4yd/gtex_data/pa...</td>\n",
       "      <td>/project/GutIntelligenceLab/ss4yd/gtex_data/hi...</td>\n",
       "    </tr>\n",
       "    <tr>\n",
       "      <th>1403</th>\n",
       "      <td>GTEX-13SLW-0826</td>\n",
       "      <td>Heart - Atrial Appendage</td>\n",
       "      <td>2 pieces, no abnormalities</td>\n",
       "      <td>/project/GutIntelligenceLab/ss4yd/gtex_data/ac...</td>\n",
       "      <td>/project/GutIntelligenceLab/ss4yd/gtex_data/pa...</td>\n",
       "      <td>/project/GutIntelligenceLab/ss4yd/gtex_data/hi...</td>\n",
       "    </tr>\n",
       "    <tr>\n",
       "      <th>1404</th>\n",
       "      <td>GTEX-13SLW-0926</td>\n",
       "      <td>Artery - Aorta</td>\n",
       "      <td>6 pieces, atherosis up to ~0.5mm</td>\n",
       "      <td>/project/GutIntelligenceLab/ss4yd/gtex_data/ac...</td>\n",
       "      <td>/project/GutIntelligenceLab/ss4yd/gtex_data/pa...</td>\n",
       "      <td>/project/GutIntelligenceLab/ss4yd/gtex_data/hi...</td>\n",
       "    </tr>\n",
       "    <tr>\n",
       "      <th>1405</th>\n",
       "      <td>GTEX-13SLW-1026</td>\n",
       "      <td>Heart - Left Ventricle</td>\n",
       "      <td>2 pieces, moderate ischemic changes/fibrosis, ...</td>\n",
       "      <td>/project/GutIntelligenceLab/ss4yd/gtex_data/ac...</td>\n",
       "      <td>/project/GutIntelligenceLab/ss4yd/gtex_data/pa...</td>\n",
       "      <td>/project/GutIntelligenceLab/ss4yd/gtex_data/hi...</td>\n",
       "    </tr>\n",
       "    <tr>\n",
       "      <th>1406</th>\n",
       "      <td>GTEX-13SLW-1126</td>\n",
       "      <td>Artery - Coronary</td>\n",
       "      <td>2 pieces, subtotally occlusive atherosis</td>\n",
       "      <td>/project/GutIntelligenceLab/ss4yd/gtex_data/ac...</td>\n",
       "      <td>/project/GutIntelligenceLab/ss4yd/gtex_data/pa...</td>\n",
       "      <td>/project/GutIntelligenceLab/ss4yd/gtex_data/hi...</td>\n",
       "    </tr>\n",
       "  </tbody>\n",
       "</table>\n",
       "<p>1407 rows × 6 columns</p>\n",
       "</div>"
      ],
      "text/plain": [
       "                  pid                   tissue_type  \\\n",
       "0     GTEX-1117F-0726      Heart - Atrial Appendage   \n",
       "1     GTEX-1117F-1026                          Lung   \n",
       "2     GTEX-1117F-1126                         Liver   \n",
       "3     GTEX-1117F-1226                        Spleen   \n",
       "4     GTEX-1117F-1326  Adipose - Visceral (Omentum)   \n",
       "...               ...                           ...   \n",
       "1402  GTEX-13SLW-0726                       Thyroid   \n",
       "1403  GTEX-13SLW-0826      Heart - Atrial Appendage   \n",
       "1404  GTEX-13SLW-0926                Artery - Aorta   \n",
       "1405  GTEX-13SLW-1026        Heart - Left Ventricle   \n",
       "1406  GTEX-13SLW-1126             Artery - Coronary   \n",
       "\n",
       "                                                  notes  \\\n",
       "0                            2 pieces, no abnormalities   \n",
       "1     2 pieces, moderate congestion/moderate to mark...   \n",
       "2           2 pieces, subtotal massive hepatic necrosis   \n",
       "3                 2 pieces, marked congestion/autolysis   \n",
       "4     2 pieces, diffuse mesothelial hyperplasia; ~10...   \n",
       "...                                                 ...   \n",
       "1402  2 pieces, colloid cysts up to ~1.5mm, rep deli...   \n",
       "1403                         2 pieces, no abnormalities   \n",
       "1404                   6 pieces, atherosis up to ~0.5mm   \n",
       "1405  2 pieces, moderate ischemic changes/fibrosis, ...   \n",
       "1406           2 pieces, subtotally occlusive atherosis   \n",
       "\n",
       "                                               svs_path  \\\n",
       "0     /project/GutIntelligenceLab/ss4yd/gtex_data/ac...   \n",
       "1     /project/GutIntelligenceLab/ss4yd/gtex_data/ac...   \n",
       "2     /project/GutIntelligenceLab/ss4yd/gtex_data/ac...   \n",
       "3     /project/GutIntelligenceLab/ss4yd/gtex_data/ac...   \n",
       "4     /project/GutIntelligenceLab/ss4yd/gtex_data/ac...   \n",
       "...                                                 ...   \n",
       "1402  /project/GutIntelligenceLab/ss4yd/gtex_data/ac...   \n",
       "1403  /project/GutIntelligenceLab/ss4yd/gtex_data/ac...   \n",
       "1404  /project/GutIntelligenceLab/ss4yd/gtex_data/ac...   \n",
       "1405  /project/GutIntelligenceLab/ss4yd/gtex_data/ac...   \n",
       "1406  /project/GutIntelligenceLab/ss4yd/gtex_data/ac...   \n",
       "\n",
       "                                             patch_path  \\\n",
       "0     /project/GutIntelligenceLab/ss4yd/gtex_data/pa...   \n",
       "1     /project/GutIntelligenceLab/ss4yd/gtex_data/pa...   \n",
       "2     /project/GutIntelligenceLab/ss4yd/gtex_data/pa...   \n",
       "3     /project/GutIntelligenceLab/ss4yd/gtex_data/pa...   \n",
       "4     /project/GutIntelligenceLab/ss4yd/gtex_data/pa...   \n",
       "...                                                 ...   \n",
       "1402  /project/GutIntelligenceLab/ss4yd/gtex_data/pa...   \n",
       "1403  /project/GutIntelligenceLab/ss4yd/gtex_data/pa...   \n",
       "1404  /project/GutIntelligenceLab/ss4yd/gtex_data/pa...   \n",
       "1405  /project/GutIntelligenceLab/ss4yd/gtex_data/pa...   \n",
       "1406  /project/GutIntelligenceLab/ss4yd/gtex_data/pa...   \n",
       "\n",
       "                                              reps_path  \n",
       "0     /project/GutIntelligenceLab/ss4yd/gtex_data/hi...  \n",
       "1     /project/GutIntelligenceLab/ss4yd/gtex_data/hi...  \n",
       "2     /project/GutIntelligenceLab/ss4yd/gtex_data/hi...  \n",
       "3     /project/GutIntelligenceLab/ss4yd/gtex_data/hi...  \n",
       "4     /project/GutIntelligenceLab/ss4yd/gtex_data/hi...  \n",
       "...                                                 ...  \n",
       "1402  /project/GutIntelligenceLab/ss4yd/gtex_data/hi...  \n",
       "1403  /project/GutIntelligenceLab/ss4yd/gtex_data/hi...  \n",
       "1404  /project/GutIntelligenceLab/ss4yd/gtex_data/hi...  \n",
       "1405  /project/GutIntelligenceLab/ss4yd/gtex_data/hi...  \n",
       "1406  /project/GutIntelligenceLab/ss4yd/gtex_data/hi...  \n",
       "\n",
       "[1407 rows x 6 columns]"
      ]
     },
     "execution_count": 2,
     "metadata": {},
     "output_type": "execute_result"
    }
   ],
   "source": [
    "df_path='/home/ss4yd/vision_transformer/captioning_vision_transformer/prepared_prelim_data.csv'\n",
    "df=pd.read_csv(df_path)\n",
    "df"
   ]
  },
  {
   "cell_type": "code",
   "execution_count": 4,
   "metadata": {},
   "outputs": [],
   "source": [
    "def get_model():\n",
    "    pretrained_weights256 = '/home/ss4yd/vision_transformer/HIPT/HIPT_4K/Checkpoints/vit256_small_dino.pth'\n",
    "    pretrained_weights4k = '/home/ss4yd/vision_transformer/HIPT/HIPT_4K/Checkpoints/vit4k_xs_dino.pth'\n",
    "\n",
    "    if torch.cuda.is_available():\n",
    "        device256 = torch.device('cuda:0')\n",
    "        device4k = torch.device('cuda:1')\n",
    "    else:\n",
    "        device256 = torch.device('cpu')\n",
    "        device4k = torch.device('cpu')\n",
    "\n",
    "\n",
    "    ### ViT_256 + ViT_4K loaded independently (used for Attention Heatmaps)\n",
    "    model256 = get_vit256(pretrained_weights=pretrained_weights256, device=device256)\n",
    "    model4k = get_vit4k(pretrained_weights=pretrained_weights4k, device=device4k)\n",
    "\n",
    "    ### ViT_256 + ViT_4K loaded into HIPT_4K API\n",
    "    model = HIPT_4K(pretrained_weights256, pretrained_weights4k, device256, device4k)\n",
    "    model.eval()\n",
    "    return model"
   ]
  },
  {
   "cell_type": "code",
   "execution_count": 5,
   "metadata": {},
   "outputs": [
    {
     "name": "stdout",
     "output_type": "stream",
     "text": [
      "Take key teacher in provided checkpoint dict\n",
      "Pretrained weights found at /home/ss4yd/vision_transformer/HIPT/HIPT_4K/Checkpoints/vit256_small_dino.pth and loaded with msg: _IncompatibleKeys(missing_keys=[], unexpected_keys=['head.mlp.0.weight', 'head.mlp.0.bias', 'head.mlp.2.weight', 'head.mlp.2.bias', 'head.mlp.4.weight', 'head.mlp.4.bias', 'head.last_layer.weight_g', 'head.last_layer.weight_v'])\n",
      "# of Patches: 196\n",
      "Take key teacher in provided checkpoint dict\n",
      "Pretrained weights found at /home/ss4yd/vision_transformer/HIPT/HIPT_4K/Checkpoints/vit4k_xs_dino.pth and loaded with msg: _IncompatibleKeys(missing_keys=[], unexpected_keys=['head.mlp.0.weight', 'head.mlp.0.bias', 'head.mlp.2.weight', 'head.mlp.2.bias', 'head.mlp.4.weight', 'head.mlp.4.bias', 'head.last_layer.weight_g', 'head.last_layer.weight_v'])\n",
      "Take key teacher in provided checkpoint dict\n",
      "Pretrained weights found at /home/ss4yd/vision_transformer/HIPT/HIPT_4K/Checkpoints/vit256_small_dino.pth and loaded with msg: _IncompatibleKeys(missing_keys=[], unexpected_keys=['head.mlp.0.weight', 'head.mlp.0.bias', 'head.mlp.2.weight', 'head.mlp.2.bias', 'head.mlp.4.weight', 'head.mlp.4.bias', 'head.last_layer.weight_g', 'head.last_layer.weight_v'])\n",
      "# of Patches: 196\n",
      "Take key teacher in provided checkpoint dict\n",
      "Pretrained weights found at /home/ss4yd/vision_transformer/HIPT/HIPT_4K/Checkpoints/vit4k_xs_dino.pth and loaded with msg: _IncompatibleKeys(missing_keys=[], unexpected_keys=['head.mlp.0.weight', 'head.mlp.0.bias', 'head.mlp.2.weight', 'head.mlp.2.bias', 'head.mlp.4.weight', 'head.mlp.4.bias', 'head.last_layer.weight_g', 'head.last_layer.weight_v'])\n"
     ]
    }
   ],
   "source": [
    "model=get_model()"
   ]
  },
  {
   "cell_type": "code",
   "execution_count": 6,
   "metadata": {},
   "outputs": [],
   "source": [
    "def get_reps(model, slide, coords, size=4096):\n",
    "#     print(coords)\n",
    "    x,y=coords\n",
    "    region=slide.read_region((x,y),0,(size,size)).convert('RGB')\n",
    "    x = eval_transforms()(region).unsqueeze(dim=0)\n",
    "    with torch.no_grad():\n",
    "        out = model.forward(x)\n",
    "    return out.cpu()"
   ]
  },
  {
   "cell_type": "code",
   "execution_count": 7,
   "metadata": {},
   "outputs": [
    {
     "name": "stdout",
     "output_type": "stream",
     "text": [
      "\n",
      "SVS ID: GTEX-1117F-0726\n",
      "Number of patches: 21\n",
      "Finished saving tensor..\n",
      "Progress: 0.0%\n"
     ]
    }
   ],
   "source": [
    "save_path='/project/GutIntelligenceLab/ss4yd/gtex_data/hipt4kreps/'\n",
    "os.makedirs(save_path, exist_ok=True)\n",
    "\n",
    "# patch_dict={key:value for key,value in zip(df['pid'], df['patch_path'])}\n",
    "for index, row in df.iterrows():\n",
    "    patch_path=row['patch_path']\n",
    "    svs_path=row['svs_path']\n",
    "    pid=row['pid']\n",
    "    print('\\nSVS ID: '+f'{pid}')\n",
    "    patch_rep_list=[]\n",
    "    coords = h5py.File(patch_path, 'r')['coords']\n",
    "    slide=openslide.open_slide(svs_path)\n",
    "    print('Number of patches: '+f'{len(coords)}')\n",
    "    for coord in coords:\n",
    "        patch_rep_list.append(get_reps(model,slide,coord))\n",
    "    \n",
    "    tensor=torch.stack(patch_rep_list)\n",
    "    torch.save(tensor,save_path+ f'{pid}.pt')\n",
    "    print('Finished saving tensor..')\n",
    "    print('Progress: '+ f'{(index*100)/len(df)}%')\n",
    "    break"
   ]
  },
  {
   "cell_type": "code",
   "execution_count": 8,
   "metadata": {},
   "outputs": [
    {
     "data": {
      "text/plain": [
       "torch.Size([21, 1, 192])"
      ]
     },
     "execution_count": 8,
     "metadata": {},
     "output_type": "execute_result"
    }
   ],
   "source": [
    "tensor.shape"
   ]
  },
  {
   "cell_type": "code",
   "execution_count": 9,
   "metadata": {},
   "outputs": [
    {
     "data": {
      "text/plain": [
       "tensor([[[ 4.0323,  2.1642, -1.6184,  ..., -2.7638,  0.4952, -0.7379]],\n",
       "\n",
       "        [[ 2.0881,  2.4777, -0.7175,  ..., -2.7558,  1.4247, -1.6451]],\n",
       "\n",
       "        [[ 1.4498,  3.1653,  0.3425,  ..., -2.4972,  1.6075, -1.4261]],\n",
       "\n",
       "        ...,\n",
       "\n",
       "        [[ 2.8392,  2.3482, -1.6898,  ..., -1.5298, -0.4011, -0.4610]],\n",
       "\n",
       "        [[ 1.6531,  0.8023, -2.0554,  ...,  0.1655,  1.2741, -0.2307]],\n",
       "\n",
       "        [[ 3.1640,  1.7448, -0.1243,  ..., -1.0070, -0.4244, -1.2139]]])"
      ]
     },
     "execution_count": 9,
     "metadata": {},
     "output_type": "execute_result"
    }
   ],
   "source": [
    "tensor"
   ]
  },
  {
   "cell_type": "code",
   "execution_count": 10,
   "metadata": {},
   "outputs": [
    {
     "data": {
      "text/plain": [
       "tensor([[[ 1.9866,  0.1871, -1.7661,  ..., -3.1260,  0.8078, -1.6956]],\n",
       "\n",
       "        [[ 1.3729,  0.7826, -2.4570,  ..., -2.4590,  0.2865, -1.7576]],\n",
       "\n",
       "        [[ 1.6081,  0.4727, -2.1768,  ..., -2.8607,  1.1561, -1.3885]],\n",
       "\n",
       "        ...,\n",
       "\n",
       "        [[ 2.1131,  1.1773, -3.8304,  ..., -2.9065, -1.0534, -1.2344]],\n",
       "\n",
       "        [[ 1.7868, -0.5002, -3.1622,  ..., -2.7068,  0.6237, -1.1603]],\n",
       "\n",
       "        [[ 2.0311,  0.7627, -3.5793,  ..., -3.5482, -0.4108, -1.6977]]])"
      ]
     },
     "execution_count": 10,
     "metadata": {},
     "output_type": "execute_result"
    }
   ],
   "source": [
    "torch.load('/project/GutIntelligenceLab/ss4yd/gtex_data/hipt4kreps/GTEX-1117F-1026.pt')"
   ]
  },
  {
   "cell_type": "code",
   "execution_count": null,
   "metadata": {},
   "outputs": [],
   "source": []
  },
  {
   "cell_type": "code",
   "execution_count": null,
   "metadata": {},
   "outputs": [],
   "source": []
  },
  {
   "cell_type": "code",
   "execution_count": null,
   "metadata": {},
   "outputs": [],
   "source": []
  }
 ],
 "metadata": {
  "kernelspec": {
   "display_name": "Python [conda env:.conda-clam]",
   "language": "python",
   "name": "conda-env-.conda-clam-py"
  },
  "language_info": {
   "codemirror_mode": {
    "name": "ipython",
    "version": 3
   },
   "file_extension": ".py",
   "mimetype": "text/x-python",
   "name": "python",
   "nbconvert_exporter": "python",
   "pygments_lexer": "ipython3",
   "version": "3.7.7"
  }
 },
 "nbformat": 4,
 "nbformat_minor": 4
}
